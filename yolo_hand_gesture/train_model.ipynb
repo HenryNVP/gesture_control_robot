{
 "cells": [
  {
   "cell_type": "code",
   "execution_count": null,
   "id": "41b64d41",
   "metadata": {
    "vscode": {
     "languageId": "plaintext"
    }
   },
   "outputs": [],
   "source": [
    "from google.colab import drive\n",
    "drive.mount('/content/drive')"
   ]
  },
  {
   "cell_type": "code",
   "execution_count": null,
   "id": "15d4bb55",
   "metadata": {
    "vscode": {
     "languageId": "plaintext"
    }
   },
   "outputs": [],
   "source": [
    "!pip install roboflow\n",
    "\n",
    "from roboflow import Roboflow\n",
    "rf = Roboflow(api_key=\"MkxHXhh8CMk7vXFVTfnh\")\n",
    "project = rf.workspace(\"lebanese-university-grkoz\").project(\"hand-gesture-recognition-y5827\")\n",
    "version = project.version(6)\n",
    "dataset = version.download(\"yolov8\")"
   ]
  },
  {
   "cell_type": "code",
   "execution_count": null,
   "id": "60726dbd",
   "metadata": {
    "vscode": {
     "languageId": "plaintext"
    }
   },
   "outputs": [],
   "source": [
    "model = YOLO(\"yolov8n.pt\")  # <-- Nano model\n",
    "\n",
    "model.train(\n",
    "    data=dataset.location + \"/data.yaml\",\n",
    "    epochs=50,\n",
    "    imgsz=224,\n",
    "    batch=64,\n",
    "    project=\"/content/drive/MyDrive/rrooar/hand_gesture/hand_gesture_model\",\n",
    "    name=\"hand_gesture_model\"\n",
    ")"
   ]
  },
  {
   "cell_type": "code",
   "execution_count": null,
   "id": "d657eeec",
   "metadata": {
    "vscode": {
     "languageId": "plaintext"
    }
   },
   "outputs": [],
   "source": [
    "import shutil\n",
    "\n",
    "shutil.copy(\"/content/drive/MyDrive/rrooar/hand_gesture/hand_gesture_model/weights/best.pt\",\n",
    "            \"/content/drive/MyDrive/agentic_AI/trained_models/hand_gesture_model.pt\")\n",
    "\n",
    "print(\"✅ Training complete. Model saved to your Google Drive.\")"
   ]
  }
 ],
 "metadata": {
  "language_info": {
   "name": "python"
  }
 },
 "nbformat": 4,
 "nbformat_minor": 5
}
